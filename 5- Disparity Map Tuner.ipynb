{
 "cells": [
  {
   "cell_type": "markdown",
   "metadata": {},
   "source": [
    "## Tuning Disparity Map ##\n",
    "<b>Description:</b> This code will load the stored Stereo Calibration data and then provde you with sliders where you can tune and adjust your resulting disparity image.\n",
    "<hr>"
   ]
  },
  {
   "cell_type": "markdown",
   "metadata": {},
   "source": [
    "#### Cell Block 1 ####\n",
    "<b>Description:</b> This cell block just imports all the necessary libraries, loads up the left/right image pair, and loads up the stored calibration data"
   ]
  },
  {
   "cell_type": "code",
   "execution_count": null,
   "metadata": {},
   "outputs": [],
   "source": [
    "import cv2\n",
    "import os\n",
    "from matplotlib import pyplot as plt\n",
    "from matplotlib.widgets import Slider, Button\n",
    "import ipywidgets as widgets\n",
    "from IPython.display import display, HTML, clear_output\n",
    "import numpy as np\n",
    "from stereovision.calibration import StereoCalibrator\n",
    "from stereovision.calibration import StereoCalibration\n",
    "from stereovision.stereo_cameras import CalibratedPair\n",
    "\n",
    "# Global variables preset\n",
    "directory = \"images\"\n",
    "photo_width = 640\n",
    "photo_height = 480\n",
    "image_width = 640\n",
    "image_height = 480\n",
    "image_size = (image_width,image_height)\n",
    "\n",
    "image_pathL = os.path.join(directory, '14_imageLeft.jpg')\n",
    "image_pathR = os.path.join(directory, '14_imageRight.jpg')\n",
    "\n",
    "if os.path.isfile(image_pathL) == False:\n",
    "    print ('Can not read image from file \\\"'+ image_pathL +'\\\"')\n",
    "    exit(0)\n",
    "\n",
    "# Read image and split it in a stereo pair\n",
    "imgLeft = cv2.imread(image_pathL, 0)\n",
    "imgRight = cv2.imread(image_pathR, 0)\n",
    "\n",
    "# Implementing calibration data\n",
    "print('Read calibration data and rectifying stereo pair...')\n",
    "calibration = StereoCalibration(input_folder='calib_result')\n",
    "rectified_pair = calibration.rectify((imgLeft, imgRight))\n",
    "\n",
    "print('done')"
   ]
  },
  {
   "cell_type": "markdown",
   "metadata": {},
   "source": [
    "#### Cell Block 2/3 ####\n",
    "<b>Description:</b> Verify the calculated rectified pair from the calibration data. If the images here look incorrect, then you should redo your calibration dataset and recalibrate."
   ]
  },
  {
   "cell_type": "code",
   "execution_count": null,
   "metadata": {},
   "outputs": [],
   "source": [
    "plt.imshow(rectified_pair[1])\n",
    "plt.show()"
   ]
  },
  {
   "cell_type": "code",
   "execution_count": null,
   "metadata": {},
   "outputs": [],
   "source": [
    "plt.imshow(rectified_pair[0])\n",
    "plt.show()"
   ]
  },
  {
   "cell_type": "markdown",
   "metadata": {},
   "source": [
    "#### Cell Block 4 ####\n",
    "<b>Description:</b> This code initializes the depth map with default values. Feel free to change the values and experiment with initial image."
   ]
  },
  {
   "cell_type": "code",
   "execution_count": null,
   "metadata": {},
   "outputs": [],
   "source": [
    "# Depth map function\n",
    "SWS = 5\n",
    "PFS = 5\n",
    "PFC = 29\n",
    "MDS = -25\n",
    "NOD = 128\n",
    "TTH = 100\n",
    "UR = 10\n",
    "SR = 15\n",
    "SPWS = 100\n",
    "\n",
    "def stereo_depth_map(rectified_pair):\n",
    "    print ('SWS='+str(SWS)+' PFS='+str(PFS)+' PFC='+str(PFC)+' MDS='+\\\n",
    "           str(MDS)+' NOD='+str(NOD)+' TTH='+str(TTH))\n",
    "    print (' UR='+str(UR)+' SR='+str(SR)+' SPWS='+str(SPWS))\n",
    "    c, r = rectified_pair[0].shape\n",
    "    disparity = np.zeros((c, r), np.uint8)\n",
    "    sbm = cv2.StereoBM_create(numDisparities=16, blockSize=15)\n",
    "    sbm.setPreFilterType(1)\n",
    "    sbm.setPreFilterSize(PFS)\n",
    "    sbm.setPreFilterCap(PFC)\n",
    "    sbm.setMinDisparity(MDS)\n",
    "    sbm.setNumDisparities(NOD)\n",
    "    sbm.setTextureThreshold(TTH)\n",
    "    sbm.setUniquenessRatio(UR)\n",
    "    sbm.setSpeckleRange(SR)\n",
    "    sbm.setSpeckleWindowSize(SPWS)\n",
    "    dmLeft = rectified_pair[0]\n",
    "    dmRight = rectified_pair[1]\n",
    "    disparity = sbm.compute(dmLeft, dmRight)\n",
    "    local_max = disparity.max()\n",
    "    local_min = disparity.min()\n",
    "    print (\"MAX \" + str(local_max))\n",
    "    print (\"MIN \" + str(local_min))\n",
    "    disparity_grayscale = (disparity-local_min)*(65535.0/(local_max-local_min))\n",
    "    disparity_fixtype = cv2.convertScaleAbs(disparity_grayscale, alpha=(255.0/65535.0))\n",
    "    disparity_color = cv2.applyColorMap(disparity_fixtype, cv2.COLORMAP_JET)\n",
    "    print (\"MAX \" + str(local_max))\n",
    "    print (\"MIN \" + str(local_min))\n",
    "    return disparity_color\n",
    "\n",
    "disparity = stereo_depth_map(rectified_pair)\n",
    "flipDisparity = cv2.cvtColor(disparity, cv2.COLOR_BGR2RGB)\n",
    "print(type(disparity))"
   ]
  },
  {
   "cell_type": "markdown",
   "metadata": {},
   "source": [
    "#### Cell Block 5 ####\n",
    "<b>Description:</b> After running below code, you will see dynamic sliders for each variable that affects the depth map. Use this to find what values make the best depth map."
   ]
  },
  {
   "cell_type": "code",
   "execution_count": null,
   "metadata": {},
   "outputs": [],
   "source": [
    "spklWinSizeW = widgets.FloatSlider(value=100, min=0, max=300, step=0.1, description='Spkl Win Size:', disabled=False, continuous_update=True)\n",
    "speckleRangeW = widgets.FloatSlider(value=15, min=0, max=40, step=0.1, description='Spkl Range:', disabled=False, continuous_update=True)\n",
    "uniquenessRatioW = widgets.FloatSlider(value=10.0, min=1, max=20, step=0.1, description='Unique Ratio:', disabled=False, continuous_update=True)\n",
    "textureThresholdW = widgets.FloatSlider(value=100, min=0, max=1000, step=0.1, description='Txtr Thresh:', disabled=False, continuous_update=True)\n",
    "numDisparitiesW = widgets.FloatSlider(value=128, min=16, max=256, step=0.1, description='Num Disp:', disabled=False, continuous_update=True)\n",
    "minDisparityW = widgets.FloatSlider(value=-25, min=-100, max=100, step=0.1, description='Min Disp:', disabled=False, continuous_update=True)\n",
    "preFilterCapW = widgets.FloatSlider(value=29, min=5, max=63, step=0.1, description='PreFilt Cap:', disabled=False, continuous_update=True)\n",
    "preFilterSizeW = widgets.FloatSlider(value=5, min=5, max=255, step=0.1, description='PreFilt Size:', disabled=False, continuous_update=True)\n",
    "SADWindowSizeW = widgets.FloatSlider(value=5, min=5, max=255, step=0.1, description='SAD Win Size:', disabled=False, continuous_update=True)\n",
    "\n",
    "output2 = widgets.Output()\n",
    "display(spklWinSizeW, speckleRangeW, uniquenessRatioW, textureThresholdW, numDisparitiesW, minDisparityW, preFilterCapW, preFilterSizeW, SADWindowSizeW, output2)\n",
    "\n",
    "def updateVal(change):\n",
    "    global SWS, PFS, PFC, MDS, NOD, TTH, UR, SR, SPWS, disparity\n",
    "    with output2:\n",
    "        clear_output()\n",
    "        SWS = int(SADWindowSizeW.value/2)*2+1\n",
    "        PFS = int(preFilterSizeW.value/2)*2+1\n",
    "        PFC = int(preFilterCapW.value/2)*2+1    \n",
    "        MDS = int(minDisparityW.value)    \n",
    "        NOD = int(numDisparitiesW.value/16)*16  \n",
    "        TTH = int(textureThresholdW.value)\n",
    "        UR = int(uniquenessRatioW.value)\n",
    "        SR = int(speckleRangeW.value)\n",
    "        SPWS= int(spklWinSizeW.value)\n",
    "        disparity = stereo_depth_map(rectified_pair)\n",
    "        flipDisparity = cv2.cvtColor(disparity, cv2.COLOR_BGR2RGB)\n",
    "        plt.imshow(flipDisparity)\n",
    "        plt.show()\n",
    "\n",
    "spklWinSizeW.observe(updateVal, names='value')\n",
    "speckleRangeW.observe(updateVal, names='value')\n",
    "uniquenessRatioW.observe(updateVal, names='value')\n",
    "textureThresholdW.observe(updateVal, names='value')\n",
    "numDisparitiesW.observe(updateVal, names='value')\n",
    "minDisparityW.observe(updateVal, names='value')\n",
    "preFilterCapW.observe(updateVal, names='value')\n",
    "preFilterSizeW.observe(updateVal, names='value')\n",
    "SADWindowSizeW.observe(updateVal, names='value')\n",
    "\n",
    "\n"
   ]
  }
 ],
 "metadata": {
  "kernelspec": {
   "display_name": "Python 3",
   "language": "python",
   "name": "python3"
  },
  "language_info": {
   "codemirror_mode": {
    "name": "ipython",
    "version": 3
   },
   "file_extension": ".py",
   "mimetype": "text/x-python",
   "name": "python",
   "nbconvert_exporter": "python",
   "pygments_lexer": "ipython3",
   "version": "3.6.9"
  }
 },
 "nbformat": 4,
 "nbformat_minor": 4
}
