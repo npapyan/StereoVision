{
 "cells": [
  {
   "cell_type": "markdown",
   "metadata": {},
   "source": [
    "## Display live camera feed ##"
   ]
  },
  {
   "cell_type": "markdown",
   "metadata": {},
   "source": [
    "<b>Description:</b> This is a simple script where you can verify if your USB cameras are properly functioning. This is done by creating a live camera feed of each camera\n",
    "<br>\n",
    "This script can also be useful to verify which camera is left and which is right. This is important as the resulting disparity image will not come out correctly if the left and right camera feeds are mixed up.\n",
    "<br>"
   ]
  },
  {
   "cell_type": "markdown",
   "metadata": {},
   "source": [
    "#### Cell 1 ####\n",
    "<b>Description:</b> This cell runs a linux command that will show you all cameras currently connected to the computer.<br>\n",
    "When you run the command, you should see the two cameras as /dev/video0 and /dev/video1"
   ]
  },
  {
   "cell_type": "code",
   "execution_count": null,
   "metadata": {},
   "outputs": [],
   "source": [
    "!ls -ltrh /dev/video*"
   ]
  },
  {
   "cell_type": "markdown",
   "metadata": {},
   "source": [
    "#### Cell 2 ####\n",
    "<b>Description:</b> This cell will initialize the two cameras utilizng the jetcam API and specifying the video number under \"capture_device\" "
   ]
  },
  {
   "cell_type": "code",
   "execution_count": null,
   "metadata": {},
   "outputs": [],
   "source": [
    "# USB Camera (Logitech C270 webcam)\n",
    "# From above input, set \"capture_device\" variable to the number at the end of \"/dev/video_\"\n",
    "from jetcam.usb_camera import USBCamera\n",
    "camera1 = USBCamera(width=224, height=224, capture_device=0) # confirm the capture_device number\n",
    "camera2 = USBCamera(width=224, height=224, capture_device=1)\n",
    "\n",
    "image1 = camera1.read()\n",
    "image2 = camera2.read()\n",
    "\n",
    "camera1.running = True\n",
    "camera2.running = True\n",
    "print(\"camera created\")"
   ]
  },
  {
   "cell_type": "markdown",
   "metadata": {},
   "source": [
    "#### Cell 3 ####\n",
    "<b>Description:</b> Here is where the ipywidgets API is utilized to provide a live capture display of the cameras within the jupyter notebook.\n",
    "Quite useful for when you don't want to connect a monitor to the Jetson Nano and work directly from the browser."
   ]
  },
  {
   "cell_type": "code",
   "execution_count": null,
   "metadata": {},
   "outputs": [],
   "source": [
    "import ipywidgets\n",
    "from IPython.display import display, HTML\n",
    "from jetcam.utils import bgr8_to_jpeg\n",
    "\n",
    "image_widget1 = ipywidgets.Image(format='jpeg')\n",
    "image_widget1.value = bgr8_to_jpeg(image1)\n",
    "\n",
    "image_widget2 = ipywidgets.Image(format='jpeg')\n",
    "image_widget2.value = bgr8_to_jpeg(image2)\n",
    "\n",
    "import traitlets\n",
    "camera_link1 = traitlets.dlink((camera1, 'value'), (image_widget1, 'value'), transform=bgr8_to_jpeg)\n",
    "camera_link2 = traitlets.dlink((camera2, 'value'), (image_widget2, 'value'), transform=bgr8_to_jpeg)\n",
    "\n",
    "display(ipywidgets.HBox([image_widget1, image_widget2]))"
   ]
  }
 ],
 "metadata": {
  "kernelspec": {
   "display_name": "Python 3",
   "language": "python",
   "name": "python3"
  },
  "language_info": {
   "codemirror_mode": {
    "name": "ipython",
    "version": 3
   },
   "file_extension": ".py",
   "mimetype": "text/x-python",
   "name": "python",
   "nbconvert_exporter": "python",
   "pygments_lexer": "ipython3",
   "version": "3.6.9"
  }
 },
 "nbformat": 4,
 "nbformat_minor": 4
}
