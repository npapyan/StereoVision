{
 "cells": [
  {
   "cell_type": "markdown",
   "metadata": {},
   "source": [
    "## Create calibration data based on chessboard stereo images ##\n",
    "<b>Description:</b> This code will go through all the stereo images found in the dataset folder, or whichever photo contains the images, and will create calibration data based on them. THe resulting calibration data will be stored in a folder called \"calib_result\"\n",
    "<hr>"
   ]
  },
  {
   "cell_type": "markdown",
   "metadata": {},
   "source": [
    "#### Cell Block 1 ####\n",
    "<b>Description:</b> This cell block just imports all the necessary libraries."
   ]
  },
  {
   "cell_type": "code",
   "execution_count": null,
   "metadata": {},
   "outputs": [],
   "source": [
    "import os\n",
    "import cv2\n",
    "import numpy as np\n",
    "from stereovision.calibration import StereoCalibrator\n",
    "from stereovision.calibration import StereoCalibration\n",
    "from stereovision.exceptions import ChessboardNotFoundError\n",
    "\n",
    "print(\"Libraries Imported\")"
   ]
  },
  {
   "cell_type": "markdown",
   "metadata": {},
   "source": [
    "#### Cell Block 2 ####\n",
    "<b>Description:</b> Here I set my variables which include photo width and heigh, the rows and columns of the chessboard, the size of the squares on the chessboard in centimeters, and the directory where the images will be read from."
   ]
  },
  {
   "cell_type": "code",
   "execution_count": null,
   "metadata": {},
   "outputs": [],
   "source": [
    "# Global variables preset\n",
    "total_photos = 50\n",
    "photo_width = 640\n",
    "photo_height = 480\n",
    "img_width = 640\n",
    "img_height = 480\n",
    "image_size = (img_width,img_height)\n",
    "\n",
    "# Chessboard parameters\n",
    "rows = 6\n",
    "columns = 9\n",
    "square_size = 1.8#2.5\n",
    "\n",
    "calibrator = StereoCalibrator(rows, columns, square_size, image_size)\n",
    "counter = 0\n",
    "directory = \"dataset\"\n",
    "\n",
    "print(\"Variables Set\")"
   ]
  },
  {
   "cell_type": "markdown",
   "metadata": {},
   "source": [
    "#### Cell Block 3 ####\n",
    "<b>Description:</b> The following loop will then go through each pair of photos, verify once more that there is a chessboard found within them, and then proceed to store calibration data using the StereoCalibrator class."
   ]
  },
  {
   "cell_type": "code",
   "execution_count": null,
   "metadata": {},
   "outputs": [],
   "source": [
    "while counter <= total_photos:\n",
    "    print(counter)\n",
    "    image_pathL = os.path.join(directory, str(counter) + '_Left.jpg')\n",
    "    image_pathR = os.path.join(directory, str(counter) + '_Right.jpg')\n",
    "    print(image_pathL)\n",
    "    print(image_pathR)\n",
    "    if os.path.isfile(image_pathL) and os.path.isfile(image_pathR):\n",
    "        imgLeft = cv2.imread(image_pathL,1)\n",
    "        imgRight = cv2.imread(image_pathR,1)\n",
    "        #print(imgLeft)\n",
    "        retR, cornersR = cv2.findChessboardCorners(imgLeft, (9,6),None)\n",
    "        retL, cornersL = cv2.findChessboardCorners(imgRight, (9,6),None)\n",
    "    # If found, add object points, image points (after refining them)\n",
    "        if retL == True and retR == True:\n",
    "            print(\"Chessboard found\")\n",
    "            calibrator._get_corners(imgLeft)\n",
    "            calibrator._get_corners(imgRight)\n",
    "            calibrator.add_corners((imgLeft, imgRight), False)\n",
    "    counter += 1"
   ]
  },
  {
   "cell_type": "markdown",
   "metadata": {},
   "source": [
    "#### Cell Block 4 ####\n",
    "<b>Description:</b> After all the data is stored in the class, I call the StereoCalibrator calibrate_cameras() function and then proceed to export the final clibrated data to a folder called \"calib_result\""
   ]
  },
  {
   "cell_type": "code",
   "execution_count": null,
   "metadata": {},
   "outputs": [],
   "source": [
    "print ('Starting calibration... It can take several minutes!')\n",
    "calibration = calibrator.calibrate_cameras()\n",
    "calibration.export('calib_result')\n",
    "print ('Calibration complete!')"
   ]
  }
 ],
 "metadata": {
  "kernelspec": {
   "display_name": "Python 3",
   "language": "python",
   "name": "python3"
  },
  "language_info": {
   "codemirror_mode": {
    "name": "ipython",
    "version": 3
   },
   "file_extension": ".py",
   "mimetype": "text/x-python",
   "name": "python",
   "nbconvert_exporter": "python",
   "pygments_lexer": "ipython3",
   "version": "3.6.9"
  }
 },
 "nbformat": 4,
 "nbformat_minor": 4
}
