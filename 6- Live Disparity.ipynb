{
 "cells": [
  {
   "cell_type": "markdown",
   "metadata": {},
   "source": [
    "## Live Disparity Map ##\n",
    "<b>Description:</b> After you use the disparity map tuner to find the best values for the resulting image, then run this code to see a live view of your disparity map.\n",
    "<hr>"
   ]
  },
  {
   "cell_type": "markdown",
   "metadata": {},
   "source": [
    "#### Cell Block 1 ####\n",
    "<b>Description:</b> This cell block just imports all the necessary libraries and loads up the necessary variables"
   ]
  },
  {
   "cell_type": "code",
   "execution_count": null,
   "metadata": {},
   "outputs": [],
   "source": [
    "import cv2\n",
    "import numpy as np\n",
    "import traitlets\n",
    "from IPython.display import display, HTML, clear_output\n",
    "import ipywidgets.widgets as widgets\n",
    "from jetcam.utils import bgr8_to_jpeg\n",
    "from jetcam.usb_camera import USBCamera\n",
    "from matplotlib import pyplot as plt\n",
    "from matplotlib.widgets import Slider, Button\n",
    "from stereovision.calibration import StereoCalibrator\n",
    "from stereovision.calibration import StereoCalibration\n",
    "import os\n",
    "\n",
    "camWidth=640\n",
    "camHeight=480\n",
    "\n",
    "cameraR = USBCamera(width=camWidth, height=camHeight, capture_device=0)\n",
    "cameraL = USBCamera(width=camWidth, height=camHeight, capture_device=1)\n",
    "\n",
    "imageR = cameraR.read()\n",
    "imageL = cameraL.read()\n",
    "\n",
    "cameraR.running = True\n",
    "cameraL.running = True\n",
    "\n",
    "image_widgetR = widgets.Image(format='jpeg')\n",
    "image_widgetR.value = bgr8_to_jpeg(imageR)\n",
    "\n",
    "image_widgetL = widgets.Image(format='jpeg')\n",
    "image_widgetL.value = bgr8_to_jpeg(imageL)\n",
    "\n",
    "button_layout = widgets.Layout(width='128px', height='64px')\n",
    "button = widgets.Button(description=\"Take Picture\", button_style='success', layout=button_layout)\n",
    "\n",
    "camera_linkR = traitlets.dlink((cameraR, 'value'), (image_widgetR, 'value'), transform=bgr8_to_jpeg)\n",
    "camera_linkL = traitlets.dlink((cameraL, 'value'), (image_widgetL, 'value'), transform=bgr8_to_jpeg)\n",
    "\n",
    "print('done')"
   ]
  },
  {
   "cell_type": "markdown",
   "metadata": {},
   "source": [
    "#### Cell Block 2 ####\n",
    "<b>Description:</b> Here we import the calibration data"
   ]
  },
  {
   "cell_type": "code",
   "execution_count": null,
   "metadata": {},
   "outputs": [],
   "source": [
    "# Implementing calibration data\n",
    "print('Read calibration data...')\n",
    "calibration = StereoCalibration(input_folder='calib_result')\n",
    "print('done')"
   ]
  },
  {
   "cell_type": "markdown",
   "metadata": {},
   "source": [
    "#### Cell Block 3 ####\n",
    "<b>Description:</b> Finally, run a live view of the disparity map from a live feed of the stereo cameras."
   ]
  },
  {
   "cell_type": "code",
   "execution_count": null,
   "metadata": {},
   "outputs": [],
   "source": [
    "import time\n",
    "\n",
    "SWS=5\n",
    "PFS=5\n",
    "PFC=29\n",
    "MDS=-81\n",
    "NOD=128\n",
    "TTH=100\n",
    "UR=6\n",
    "SR=12\n",
    "SPWS=120\n",
    "\n",
    "dm_colors_autotune = True\n",
    "disp_max = -100000\n",
    "disp_min = 10000\n",
    "\n",
    "def stereo_depth_map(rectified_pair):\n",
    "    global disp_max, disp_min\n",
    "    c, r = rectified_pair[0].shape\n",
    "    disparity = np.zeros((c, r), np.uint8)\n",
    "    sbm = cv2.StereoBM_create(numDisparities=16, blockSize=15)\n",
    "    sbm.setPreFilterType(1)\n",
    "    sbm.setPreFilterSize(PFS)\n",
    "    sbm.setPreFilterCap(PFC)\n",
    "    sbm.setMinDisparity(MDS)\n",
    "    sbm.setNumDisparities(NOD)\n",
    "    sbm.setTextureThreshold(TTH)\n",
    "    sbm.setUniquenessRatio(UR)\n",
    "    sbm.setSpeckleRange(SR)\n",
    "    sbm.setSpeckleWindowSize(SPWS)\n",
    "    dmLeft = rectified_pair[0]\n",
    "    dmRight = rectified_pair[1]\n",
    "    disparity = sbm.compute(dmLeft, dmRight)\n",
    "    local_max = disparity.max()\n",
    "    local_min = disparity.min()\n",
    "    if (dm_colors_autotune):\n",
    "        disp_max = max(local_max,disp_max)\n",
    "        disp_min = min(local_min,disp_min)\n",
    "        local_max = disp_max\n",
    "        local_min = disp_min\n",
    "    disparity_grayscale = (disparity-local_min)*(65535.0/(local_max-local_min))\n",
    "    disparity_fixtype = cv2.convertScaleAbs(disparity_grayscale, alpha=(255.0/65535.0))\n",
    "    disparity_color = cv2.applyColorMap(disparity_fixtype, cv2.COLORMAP_JET)\n",
    "    return disparity_color\n",
    "\n",
    "frameWidgetL = widgets.Image(format='jpeg', width=camWidth, height=camHeight)\n",
    "frameWidgetR = widgets.Image(format='jpeg', width=camWidth, height=camHeight)\n",
    "\n",
    "cameraBool = True\n",
    "\n",
    "display(widgets.HBox([image_widgetR, image_widgetL]))\n",
    "display(frameWidgetL)\n",
    "\n",
    "output2 = widgets.Output()\n",
    "display(output2)\n",
    "\n",
    "while cameraBool:\n",
    "    with output2:\n",
    "        cameraL_frame = cameraL.value\n",
    "        cameraR_frame = cameraR.value\n",
    "        newFrameL = cv2.cvtColor(cameraL_frame, cv2.COLOR_BGR2GRAY)\n",
    "        newFrameR = cv2.cvtColor(cameraR_frame, cv2.COLOR_BGR2GRAY)\n",
    "        rectified_pair = calibration.rectify((newFrameL, newFrameR))\n",
    "        disparity = stereo_depth_map(rectified_pair)\n",
    "        frameWidgetL.value = bgr8_to_jpeg(disparity)\n",
    "    time.sleep(0.001)"
   ]
  }
 ],
 "metadata": {
  "kernelspec": {
   "display_name": "Python 3",
   "language": "python",
   "name": "python3"
  },
  "language_info": {
   "codemirror_mode": {
    "name": "ipython",
    "version": 3
   },
   "file_extension": ".py",
   "mimetype": "text/x-python",
   "name": "python",
   "nbconvert_exporter": "python",
   "pygments_lexer": "ipython3",
   "version": "3.6.9"
  }
 },
 "nbformat": 4,
 "nbformat_minor": 4
}
