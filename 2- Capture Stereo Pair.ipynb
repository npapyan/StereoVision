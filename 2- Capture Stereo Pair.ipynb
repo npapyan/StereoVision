{
 "cells": [
  {
   "cell_type": "markdown",
   "metadata": {},
   "source": [
    "## Capture and save stereo images to be used for calibration later ##"
   ]
  },
  {
   "cell_type": "markdown",
   "metadata": {},
   "source": [
    "<b>Description</b> The following code is meant to display a live feed of the two usb cameras and automatically capture and store a set amount of stereo photos whenever a chessboard is detected. A sleep period of 5 seconds is set in between photos.\n",
    "<hr>"
   ]
  },
  {
   "cell_type": "markdown",
   "metadata": {},
   "source": [
    "#### Cell Block 1 ####\n",
    "<b>Description:</b> Initializes the cameras and sets them to running.<br>"
   ]
  },
  {
   "cell_type": "code",
   "execution_count": null,
   "metadata": {},
   "outputs": [],
   "source": [
    "# USB Camera (Logitech C270 webcam)\n",
    "# From above input, set \"capture_device\" variable to the number at the end of \"/dev/video_\"\n",
    "from jetcam.usb_camera import USBCamera\n",
    "camWidth=640\n",
    "camHeight=480\n",
    "cameraR = USBCamera(width=camWidth, height=camHeight, capture_device=0) # confirm the capture_device number\n",
    "cameraL = USBCamera(width=camWidth, height=camHeight, capture_device=1)\n",
    "\n",
    "imageR = cameraR.read()\n",
    "imageL = cameraL.read()\n",
    "\n",
    "cameraR.running = True\n",
    "cameraL.running = True\n",
    "print(\"camera created\")"
   ]
  },
  {
   "cell_type": "markdown",
   "metadata": {},
   "source": [
    "#### Cell Block 2 ####\n",
    "<b>Description:</b> The code below creates the widgets to display the live feed of the cameras within the Jupyter Notebook. A counter for images taken is also provided to keep track."
   ]
  },
  {
   "cell_type": "code",
   "execution_count": null,
   "metadata": {},
   "outputs": [],
   "source": [
    "import ipywidgets\n",
    "import os\n",
    "from IPython.display import display, HTML\n",
    "from jetcam.utils import bgr8_to_jpeg\n",
    "import traitlets\n",
    "\n",
    "image_widgetR = ipywidgets.Image(format='jpeg')\n",
    "image_widgetR.value = bgr8_to_jpeg(imageR)\n",
    "\n",
    "image_widgetL = ipywidgets.Image(format='jpeg')\n",
    "image_widgetL.value = bgr8_to_jpeg(imageL)\n",
    "\n",
    "button_layout = ipywidgets.Layout(width='128px', height='64px')\n",
    "\n",
    "camera_linkR = traitlets.dlink((cameraR, 'value'), (image_widgetR, 'value'), transform=bgr8_to_jpeg)\n",
    "camera_linkL = traitlets.dlink((cameraL, 'value'), (image_widgetL, 'value'), transform=bgr8_to_jpeg)\n",
    "\n",
    "pic_count = ipywidgets.IntText(layout=button_layout, value=len(os.listdir('dataset')))\n",
    "\n",
    "display(ipywidgets.HBox([image_widgetR, image_widgetL]))\n",
    "display(ipywidgets.HBox([pic_count]))  "
   ]
  },
  {
   "cell_type": "markdown",
   "metadata": {},
   "source": [
    "#### Cell Block 3 ####\n",
    "<b>Description:</b> The code below will automatically save the frames from both cameras the instant a chessboard is detected in them. The code will then wait for 5 seconds before proceeding to take another pair of photos. The photos are saved in a directory named dataset.<br>\n",
    "<b>Note:</b> <i>I did not make the code check if the directory exists or not. Please create the directory before running the code.</i>"
   ]
  },
  {
   "cell_type": "code",
   "execution_count": null,
   "metadata": {},
   "outputs": [],
   "source": [
    "import numpy as np\n",
    "import cv2\n",
    "import glob\n",
    "from matplotlib import pyplot as plt\n",
    "\n",
    "while (len(os.listdir('dataset'))/2) < 50:\n",
    "    directory = \"dataset\"\n",
    "    cameraL_frame = cameraL.value\n",
    "    cameraR_frame = cameraR.value\n",
    "    grayL = cv2.cvtColor(cameraL_frame,cv2.COLOR_BGR2GRAY)\n",
    "    grayR = cv2.cvtColor(cameraR_frame,cv2.COLOR_BGR2GRAY)\n",
    "    retR, cornersR = cv2.findChessboardCorners(grayR, (9,6),None)\n",
    "    retL, cornersL = cv2.findChessboardCorners(grayL, (9,6),None)\n",
    "    # If found, add object points, image points (after refining them)\n",
    "    if retL == True and retR == True:\n",
    "        print(\"Found Chessboard\")\n",
    "        counter = int(len(os.listdir('dataset'))/2)\n",
    "        image_pathL = os.path.join(directory, str(counter) + '_Left.jpg')\n",
    "        image_pathR = os.path.join(directory, str(counter) + '_Right.jpg')\n",
    "        cv2.imwrite(image_pathL, cameraL_frame)\n",
    "        cv2.imwrite(image_pathR, cameraR_frame)\n",
    "        pic_count.value = (len(os.listdir('dataset'))/2)+0.5\n",
    "        cv2.waitKey(5000)\n",
    "\n",
    "print(\"Pictures have been taken\")\n",
    "    \n",
    "    "
   ]
  },
  {
   "cell_type": "code",
   "execution_count": null,
   "metadata": {},
   "outputs": [],
   "source": []
  }
 ],
 "metadata": {
  "kernelspec": {
   "display_name": "Python 3",
   "language": "python",
   "name": "python3"
  },
  "language_info": {
   "codemirror_mode": {
    "name": "ipython",
    "version": 3
   },
   "file_extension": ".py",
   "mimetype": "text/x-python",
   "name": "python",
   "nbconvert_exporter": "python",
   "pygments_lexer": "ipython3",
   "version": "3.6.9"
  }
 },
 "nbformat": 4,
 "nbformat_minor": 4
}
